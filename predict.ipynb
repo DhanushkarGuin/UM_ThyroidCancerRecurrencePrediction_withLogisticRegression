{
 "cells": [
  {
   "cell_type": "markdown",
   "id": "d8c64d0d",
   "metadata": {},
   "source": [
    "Cell 1: Necessary Imports"
   ]
  },
  {
   "cell_type": "code",
   "execution_count": null,
   "id": "5ae4eb72",
   "metadata": {},
   "outputs": [],
   "source": [
    "import pandas as pd\n",
    "import pickle"
   ]
  },
  {
   "cell_type": "markdown",
   "id": "0fe456f9",
   "metadata": {},
   "source": [
    "Cell 2: Loading pipeline"
   ]
  },
  {
   "cell_type": "code",
   "execution_count": null,
   "id": "6a15f4cd",
   "metadata": {},
   "outputs": [],
   "source": [
    "pipeline = pickle.load(open('pipeline.pkl', 'rb'))"
   ]
  },
  {
   "cell_type": "markdown",
   "id": "e131d2dc",
   "metadata": {},
   "source": [
    "Cell 3: Preparing column names"
   ]
  },
  {
   "cell_type": "code",
   "execution_count": null,
   "id": "e46c422a",
   "metadata": {},
   "outputs": [],
   "source": [
    "columns = ['Age', 'Gender', 'Smoking', 'Hx Smoking', 'Hx Radiothreapy', 'Thyroid Function', 'Physical Examination', 'Adenopathy', 'Pathology', 'Focality', 'Risk', 'T', 'N', 'M', 'Stage', 'Response']"
   ]
  },
  {
   "cell_type": "markdown",
   "id": "549c7c56",
   "metadata": {},
   "source": [
    "Cell 4: Accepting or Defining input"
   ]
  },
  {
   "cell_type": "code",
   "execution_count": null,
   "id": "6cb2fe79",
   "metadata": {},
   "outputs": [],
   "source": [
    "test_input = pd.DataFrame([[20, 'M', 'No', 'Yes', 'No', 'Euthyroid',\n",
    "                            'Single nodular goiter-left', 'No',\n",
    "                            'Micropapillary', 'Uni-Focal', 'Low',\n",
    "                            'T1a', 'N0', 'M0', 'I', 'Excellent']], columns = columns)"
   ]
  },
  {
   "cell_type": "markdown",
   "id": "92e040ae",
   "metadata": {},
   "source": [
    "Cell 5: Predictions"
   ]
  },
  {
   "cell_type": "code",
   "execution_count": null,
   "id": "a82e6e9a",
   "metadata": {},
   "outputs": [],
   "source": [
    "prediction = pipeline.predict(test_input)\n",
    "print('Recurrence:', 'No' if prediction == 0 else 'Yes')"
   ]
  }
 ],
 "metadata": {
  "language_info": {
   "name": "python"
  }
 },
 "nbformat": 4,
 "nbformat_minor": 5
}
