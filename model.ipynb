{
 "cells": [
  {
   "cell_type": "markdown",
   "id": "147f1272",
   "metadata": {},
   "source": [
    "## Thyroid Cancer Recurrence Project"
   ]
  },
  {
   "cell_type": "markdown",
   "id": "413ca5a1",
   "metadata": {},
   "source": [
    "Cell 1 - Importing Libraries"
   ]
  },
  {
   "cell_type": "code",
   "execution_count": null,
   "id": "1dee2dc7",
   "metadata": {},
   "outputs": [],
   "source": [
    "import pandas as pd\n",
    "from sklearn.model_selection import train_test_split\n",
    "from sklearn.pipeline import Pipeline\n",
    "from sklearn.preprocessing import OneHotEncoder\n",
    "from sklearn.compose import ColumnTransformer\n",
    "from sklearn.linear_model import LogisticRegression\n",
    "from sklearn.metrics import precision_score,recall_score,confusion_matrix\n",
    "import pickle"
   ]
  },
  {
   "cell_type": "markdown",
   "id": "ab0cc5b3",
   "metadata": {},
   "source": [
    "Cell 2 - Reading and Importing Data"
   ]
  },
  {
   "cell_type": "code",
   "execution_count": null,
   "id": "627c2c24",
   "metadata": {},
   "outputs": [],
   "source": [
    "dataset = pd.read_csv(\"dataset.csv\")"
   ]
  },
  {
   "cell_type": "markdown",
   "id": "61ec03c6",
   "metadata": {},
   "source": [
    "Cell 3 - Mapping the features with categorical values that can be represented in binary terms"
   ]
  },
  {
   "cell_type": "code",
   "execution_count": null,
   "id": "3a07687a",
   "metadata": {},
   "outputs": [],
   "source": [
    "dataset['Recurred'] = dataset['Recurred'].map({'Yes': 1, 'No':0})"
   ]
  },
  {
   "cell_type": "markdown",
   "id": "b9b9cff8",
   "metadata": {},
   "source": [
    "Cell 4 - Allocating specific features to variables"
   ]
  },
  {
   "cell_type": "code",
   "execution_count": null,
   "id": "9c58e5cd",
   "metadata": {},
   "outputs": [],
   "source": [
    "X = dataset.drop(columns = 'Recurred')\n",
    "y = dataset['Recurred']"
   ]
  },
  {
   "cell_type": "markdown",
   "id": "82f3ccc5",
   "metadata": {},
   "source": [
    "Cell 5 - Spliting the data for training and testing"
   ]
  },
  {
   "cell_type": "code",
   "execution_count": null,
   "id": "f8794724",
   "metadata": {},
   "outputs": [],
   "source": [
    "X_train, X_test, y_train, y_test = train_test_split(X, y, test_size=0.2, random_state=0)"
   ]
  },
  {
   "cell_type": "markdown",
   "id": "0b0d793f",
   "metadata": {},
   "source": [
    "Cell 6 = Getting Feature Names"
   ]
  },
  {
   "cell_type": "code",
   "execution_count": null,
   "id": "bd342d14",
   "metadata": {},
   "outputs": [],
   "source": [
    "categorical_columns = ['Gender', 'Smoking', 'Hx Smoking', 'Hx Radiothreapy', 'Thyroid Function',\n",
    "                        'Physical Examination', 'Adenopathy', 'Pathology',\n",
    "                        'Focality', 'Risk', 'T', 'N', 'M', 'Stage', 'Response']"
   ]
  },
  {
   "cell_type": "markdown",
   "id": "476f7741",
   "metadata": {},
   "source": [
    "Cell 7 - Pipelining and training"
   ]
  },
  {
   "cell_type": "code",
   "execution_count": null,
   "id": "7811ac4d",
   "metadata": {},
   "outputs": [],
   "source": [
    "preprocess = ColumnTransformer([\n",
    "    ('encode', OneHotEncoder(sparse_output=False,handle_unknown='ignore'), categorical_columns)\n",
    "],remainder='passthrough')\n",
    "\n",
    "pipeline = Pipeline([\n",
    "    ('encode', preprocess),\n",
    "    ('logreg', LogisticRegression(max_iter=1000))\n",
    "])\n",
    "\n",
    "pipeline.fit(X_train,y_train)\n",
    "\n",
    "y_pred = pipeline.predict(X_test)"
   ]
  },
  {
   "cell_type": "markdown",
   "id": "8094a73a",
   "metadata": {},
   "source": [
    "Cell 8 - Evaluation of the Model"
   ]
  },
  {
   "cell_type": "code",
   "execution_count": null,
   "id": "57889472",
   "metadata": {},
   "outputs": [],
   "source": [
    "print(\"Confusion Matrix:\", confusion_matrix(y_test, y_pred))\n",
    "print(\"Precision:\", (precision_score(y_test, y_pred)))\n",
    "print(\"Recall:\", recall_score(y_test, y_pred))"
   ]
  },
  {
   "cell_type": "markdown",
   "id": "95c0c33b",
   "metadata": {},
   "source": [
    "Cell 11 - Exporting pipeline"
   ]
  },
  {
   "cell_type": "code",
   "execution_count": null,
   "id": "fee2e002",
   "metadata": {},
   "outputs": [],
   "source": [
    "pickle.dump(pipeline, open('pipeline.pkl', 'wb'))"
   ]
  }
 ],
 "metadata": {
  "language_info": {
   "name": "python"
  }
 },
 "nbformat": 4,
 "nbformat_minor": 5
}
